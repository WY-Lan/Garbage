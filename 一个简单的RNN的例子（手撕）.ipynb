{
 "cells": [
  {
   "cell_type": "code",
   "execution_count": 15,
   "id": "93d4d7b7",
   "metadata": {},
   "outputs": [
    {
     "data": {
      "text/plain": [
       "array([[0, 0, 0, ..., 0, 0, 0],\n",
       "       [0, 0, 0, ..., 0, 0, 1],\n",
       "       [0, 0, 0, ..., 0, 1, 0],\n",
       "       ...,\n",
       "       [1, 1, 1, ..., 1, 0, 1],\n",
       "       [1, 1, 1, ..., 1, 1, 0],\n",
       "       [1, 1, 1, ..., 1, 1, 1]], dtype=uint8)"
      ]
     },
     "execution_count": 15,
     "metadata": {},
     "output_type": "execute_result"
    }
   ],
   "source": [
    "import copy, numpy as np\n",
    "np.random.seed(1)\n",
    "\n",
    "def sigmoid(x):\n",
    "    output = 1/(1+np.exp(-x))\n",
    "    return output\n",
    "\n",
    "def sigmoid_output_to_derivative(output):#sigmoid的导数\n",
    "    return output*(1 - output)\n",
    "\n",
    "int2binary = {}\n",
    "binary_dim = 8\n",
    "\n",
    "larget_number = pow(2,binary_dim) #最大的位数是2的8次方\n",
    "binary = np.unpackbits(np.array([range(larget_number)], dtype=np.uint8).T, axis = 1)\n",
    "binary#构成一个二进制的数据集\n"
   ]
  },
  {
   "cell_type": "code",
   "execution_count": 16,
   "id": "76c82e6d",
   "metadata": {},
   "outputs": [],
   "source": [
    "for i in range(larget_number):\n",
    "    int2binary[i] = binary[i]#顺序形成字典\n",
    "    int2binary"
   ]
  },
  {
   "cell_type": "code",
   "execution_count": 17,
   "id": "822cb03a",
   "metadata": {},
   "outputs": [
    {
     "data": {
      "text/plain": [
       "array([[0., 0., 0., 0., 0., 0., 0., 0., 0., 0., 0., 0., 0., 0., 0., 0.],\n",
       "       [0., 0., 0., 0., 0., 0., 0., 0., 0., 0., 0., 0., 0., 0., 0., 0.]])"
      ]
     },
     "execution_count": 17,
     "metadata": {},
     "output_type": "execute_result"
    }
   ],
   "source": [
    "#输入的变量\n",
    "alpha = 0.1\n",
    "input_dim = 2\n",
    "hidden_dim = 16\n",
    "output_dim = 1\n",
    "\n",
    "#初始化中间层的参数\n",
    "synapse_0 = 2 * np.random.random((input_dim, hidden_dim)) - 1\n",
    "synapse_1 = 2 * np.random.random((hidden_dim, output_dim)) - 1\n",
    "synapse_h = 2 * np.random.random((hidden_dim, hidden_dim)) - 1\n",
    "\n",
    "synapse_0_update = np.zeros_like(synapse_0)# 相同shape的矩阵，值全部是0\n",
    "synapse_1_update = np.zeros_like(synapse_1)\n",
    "synapse_h_update = np.zeros_like(synapse_h)\n",
    "synapse_0_update"
   ]
  },
  {
   "cell_type": "code",
   "execution_count": 18,
   "id": "25f6185b",
   "metadata": {},
   "outputs": [
    {
     "name": "stdout",
     "output_type": "stream",
     "text": [
      "Error [3.82296578]\n",
      "Pred [1 1 1 1 1 1 1 1]\n",
      "True [0 0 0 1 1 1 0 1]\n",
      "12 + 17 = 255\n",
      "------------\n",
      "Error [3.86661582]\n",
      "Pred [1 1 1 1 1 1 1 1]\n",
      "True [1 0 0 1 0 1 1 1]\n",
      "107 + 44 = 255\n",
      "------------\n",
      "Error [4.08237013]\n",
      "Pred [1 1 1 1 1 0 1 1]\n",
      "True [1 0 0 0 1 1 0 1]\n",
      "60 + 81 = 251\n",
      "------------\n",
      "Error [3.85797955]\n",
      "Pred [0 0 0 1 0 0 0 0]\n",
      "True [1 0 1 0 0 1 0 0]\n",
      "92 + 72 = 16\n",
      "------------\n",
      "Error [2.86477346]\n",
      "Pred [0 1 0 0 0 0 0 0]\n",
      "True [0 1 0 1 1 0 0 0]\n",
      "4 + 84 = 64\n",
      "------------\n",
      "Error [1.47189865]\n",
      "Pred [0 0 1 1 0 1 0 0]\n",
      "True [0 0 1 1 0 1 0 0]\n",
      "43 + 9 = 52\n",
      "------------\n",
      "Error [0.78305062]\n",
      "Pred [0 1 1 0 0 0 1 0]\n",
      "True [0 1 1 0 0 0 1 0]\n",
      "38 + 60 = 98\n",
      "------------\n",
      "Error [0.663452]\n",
      "Pred [0 1 1 1 0 1 1 1]\n",
      "True [0 1 1 1 0 1 1 1]\n",
      "111 + 8 = 119\n",
      "------------\n",
      "Error [0.41581614]\n",
      "Pred [1 0 0 1 0 0 1 0]\n",
      "True [1 0 0 1 0 0 1 0]\n",
      "35 + 111 = 146\n",
      "------------\n",
      "Error [0.42098233]\n",
      "Pred [1 0 0 0 0 1 1 1]\n",
      "True [1 0 0 0 0 1 1 1]\n",
      "76 + 59 = 135\n",
      "------------\n"
     ]
    }
   ],
   "source": [
    "for j in range(10000):\n",
    "    #生成简单的加法问题\n",
    "    a_int = np.random.randint(larget_number/2)\n",
    "    a = int2binary[a_int]\n",
    "    \n",
    "    b_int = np.random.randint(larget_number/2)\n",
    "    b = int2binary[b_int]\n",
    "    \n",
    "    c_int = a_int+b_int\n",
    "    c = int2binary[c_int]\n",
    "    \n",
    "    #先保留最好的结果\n",
    "    d = np.zeros_like(c)\n",
    "    \n",
    "    overallError = 0\n",
    "    \n",
    "    layer_2_deltas = list()\n",
    "    layer_1_values = list()\n",
    "    layer_1_values.append(np.zeros(hidden_dim))\n",
    "    \n",
    "    #move the along the positions in binary encoding\n",
    "    for position in range(binary_dim):\n",
    "        #产生输入和输出   关于这里为什么需要倒叙输出还有一些意味\n",
    "        X = np.array([[a[binary_dim - position - 1], b[binary_dim - position - 1]]])#为什么这个输入要设置成这样\n",
    "        y = np.array([[c[binary_dim - position - 1]]]).T\n",
    "        \n",
    "        #隐藏层的输入和输出\n",
    "        layer_1 = sigmoid(np.dot(X,synapse_0) + np.dot(layer_1_values[-1],synapse_h))\n",
    "        \n",
    "        #输出层的输入和输出\n",
    "        #print(np.dot(layer_1, synapse_1))\n",
    "        layer_2 = sigmoid(np.dot(layer_1, synapse_1))\n",
    "        \n",
    "        layer_2_error = y - layer_2\n",
    "        layer_2_deltas.append((layer_2_error) * sigmoid_output_to_derivative(layer_2))\n",
    "        overallError += np.abs(layer_2_error[0])\n",
    "        \n",
    "        #解码估计，以便于后续何以输出,\n",
    "        \n",
    "        d[binary_dim - position - 1] = np.round(layer_2[0][0])\n",
    "        #保存隐藏层，以便于后续可以用于下一个时间步，这个时间步可以一直使用\n",
    "        layer_1_values.append(copy.deepcopy(layer_1))\n",
    "    \n",
    "    future_layer_1_delta = np.zeros(hidden_dim)\n",
    "    #应该是进行反向传播\n",
    "    for position in range(binary_dim):\n",
    "        X = np.array([[a[position], b[position]]])\n",
    "        layer_1 = layer_1_values[-position - 1]#其实就是倒叙输入\n",
    "        prev_layer_1 = layer_1_values[-position - 2]#前一步的输入\n",
    "        \n",
    "        #输出层的误差\n",
    "        layer_2_delta = layer_2_deltas[-position - 1]\n",
    "        #隐藏层的误\n",
    "        layer_1_delta = (future_layer_1_delta.dot(synapse_h.T) + layer_2_delta.dot(synapse_1.T)) * sigmoid_output_to_derivative(layer_1)        \n",
    "        #开始更新权重\n",
    "        synapse_1_update += np.atleast_2d(layer_1).T.dot(layer_2_delta)#转化成二维数组\n",
    "        synapse_h_update += np.atleast_2d(prev_layer_1).T.dot(layer_1_delta)\n",
    "        synapse_0_update += X.T.dot(layer_1_delta)\n",
    "        \n",
    "        future_layer_1_delta = layer_1_delta\n",
    "        \n",
    "    synapse_0 += synapse_0_update * alpha\n",
    "    synapse_1 += synapse_1_update * alpha\n",
    "    synapse_h += synapse_h_update * alpha\n",
    "    \n",
    "    synapse_0_update *= 0\n",
    "    synapse_1_update *= 0\n",
    "    synapse_h_update *= 0\n",
    "    \n",
    "    if j % 1000 == 0:\n",
    "        print(\"Error\",overallError)\n",
    "        print(\"Pred\",d)\n",
    "        print(\"True\",c)\n",
    "        out = 0\n",
    "        for index,x in enumerate(reversed(d)):\n",
    "            out += x*pow(2,index)\n",
    "        print(str(a_int) + \" + \" + str(b_int) + \" = \" + str(out))\n",
    "        print (\"------------\")"
   ]
  },
  {
   "cell_type": "code",
   "execution_count": null,
   "id": "e1d09abc",
   "metadata": {},
   "outputs": [],
   "source": []
  },
  {
   "cell_type": "code",
   "execution_count": null,
   "id": "99d3716e",
   "metadata": {},
   "outputs": [],
   "source": []
  }
 ],
 "metadata": {
  "kernelspec": {
   "display_name": "Python 3 (ipykernel)",
   "language": "python",
   "name": "python3"
  },
  "language_info": {
   "codemirror_mode": {
    "name": "ipython",
    "version": 3
   },
   "file_extension": ".py",
   "mimetype": "text/x-python",
   "name": "python",
   "nbconvert_exporter": "python",
   "pygments_lexer": "ipython3",
   "version": "3.9.13"
  }
 },
 "nbformat": 4,
 "nbformat_minor": 5
}
